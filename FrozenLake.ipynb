{
  "cells": [
    {
      "cell_type": "markdown",
      "metadata": {
        "id": "gqHH0I6TUedT"
      },
      "source": [
        "# Tabular RL Algorithms\n",
        "\n",
        "In this assignment, you will solve the FrozenLake-v0 environment from [Gymnasium](https://gymnasium.farama.org/). You will be using this helper file to answer questions in your assignment. \n",
        "\n",
        "\n",
        "Frozen lake involves crossing a frozen lake from start to goal without falling into any holes by walking over the frozen lake. The player may not always move in the intended direction due to the slippery nature of the frozen lake. The game starts with the player at location [0,0] of the frozen lake grid world with the goal located at far extent of the world e.g. [3,3] for the 4x4 environment. Holes in the ice are distributed in set locations using a pre-determined map, and the player makes moves until they reach the goal or fall in a hole. The map is given below for your reference\n",
        "\n",
        "        SFFF\n",
        "        FHFH\n",
        "        FFFH\n",
        "        HFFG\n",
        "    S : starting point, safe\n",
        "    F : frozen surface, safe\n",
        "    H : hole, fall to your doom\n",
        "    G : goal, where the frisbee is located\n",
        "    \n",
        "    \n",
        "## Action Space\n",
        "The player/agent can take 4 discrete actions, in the range {0,3}\n",
        "* 0: Move left\n",
        "* 1: Move down\n",
        "* 2: Move right \n",
        "* 4: Move up\n",
        "\n",
        "\n",
        "## State Space\n",
        "The environment consists of 16 states. The state is a value representing the player’s current position as current_row * nrows + current_col (where both the row and col start at 0).\n",
        "For example, the goal position in the 4x4 map can be calculated as follows: 3 * 4 + 3 = 15.\n",
        "\n",
        "\n",
        "## Starting State\n",
        "The episode starts with the player in state [0] (location [0, 0]).\n",
        "\n",
        "\n",
        "## Rewards \n",
        "\n",
        "* Reach goal: +1\n",
        "* Reach hole: 0\n",
        "* Reach frozen: 0\n",
        "\n",
        "## Episode End\n",
        "The episode ends if the following happens:\n",
        "### 1.Termination:\n",
        "* The player moves into a hole.\n",
        "* The player reaches the goal at max(nrow) * max(ncol) - 1 (location [max(nrow)-1, max(ncol)-1]).\n",
        "\n",
        "### 2.Truncation:\n",
        "* The length of the episode is 100 for 4x4 environment.\n",
        "\n",
        "For more info refer to source: https://gymnasium.farama.org/environments/toy_text/frozen_lake/\n",
        "\n",
        "## The Environment Parameters\n",
        "* Use discount factor, $\\gamma = 0.9$\n",
        "* The environment is slippery, ie., the transition kernel is stochastic.\n",
        "* The transition kernel P is a dictionary. \n",
        "* P[state][action] is tuples with (probability, nextstate, reward, terminal)\n",
        "\n",
        "\n",
        "### **Use the following code snippet to set up the gym environemnt for all the questions**"
      ]
    },
    {
      "cell_type": "code",
      "source": [
        "pip install gymnasium"
      ],
      "metadata": {
        "colab": {
          "base_uri": "https://localhost:8080/"
        },
        "id": "RMh-_1AWVp0O",
        "outputId": "f28c8512-048d-460b-8e83-21101d9defdf"
      },
      "execution_count": null,
      "outputs": [
        {
          "output_type": "stream",
          "name": "stdout",
          "text": [
            "Looking in indexes: https://pypi.org/simple, https://us-python.pkg.dev/colab-wheels/public/simple/\n",
            "Requirement already satisfied: gymnasium in /usr/local/lib/python3.9/dist-packages (0.27.1)\n",
            "Requirement already satisfied: cloudpickle>=1.2.0 in /usr/local/lib/python3.9/dist-packages (from gymnasium) (2.2.1)\n",
            "Requirement already satisfied: jax-jumpy>=0.2.0 in /usr/local/lib/python3.9/dist-packages (from gymnasium) (0.2.0)\n",
            "Requirement already satisfied: importlib-metadata>=4.8.0 in /usr/local/lib/python3.9/dist-packages (from gymnasium) (6.0.0)\n",
            "Requirement already satisfied: numpy>=1.21.0 in /usr/local/lib/python3.9/dist-packages (from gymnasium) (1.22.4)\n",
            "Requirement already satisfied: typing-extensions>=4.3.0 in /usr/local/lib/python3.9/dist-packages (from gymnasium) (4.5.0)\n",
            "Requirement already satisfied: gymnasium-notices>=0.0.1 in /usr/local/lib/python3.9/dist-packages (from gymnasium) (0.0.1)\n",
            "Requirement already satisfied: zipp>=0.5 in /usr/local/lib/python3.9/dist-packages (from importlib-metadata>=4.8.0->gymnasium) (3.15.0)\n"
          ]
        }
      ]
    },
    {
      "cell_type": "code",
      "source": [],
      "metadata": {
        "id": "tOMdDu1HWFZd"
      },
      "execution_count": null,
      "outputs": []
    },
    {
      "cell_type": "code",
      "execution_count": null,
      "metadata": {
        "id": "_NW08NR8UedW"
      },
      "outputs": [],
      "source": [
        "import gymnasium as gym\n",
        "env = gym.make('FrozenLake-v1', desc=None,map_name=\"4x4\", is_slippery=True)#, render_mode=\"rgb_array_list\")\n",
        "gamma = 0.9"
      ]
    },
    {
      "cell_type": "code",
      "source": [],
      "metadata": {
        "id": "6Y7ew-J0bKsH"
      },
      "execution_count": null,
      "outputs": []
    },
    {
      "cell_type": "code",
      "execution_count": null,
      "metadata": {
        "colab": {
          "base_uri": "https://localhost:8080/"
        },
        "id": "6D1esnCtUedY",
        "outputId": "99db86e8-065e-45c9-968d-f267e3a04d0b"
      },
      "outputs": [
        {
          "output_type": "stream",
          "name": "stdout",
          "text": [
            "Number of Actions 4\n",
            "Number of States  16\n",
            "P[10,3] [(0.3333333333333333, 11, 0.0, True), (0.3333333333333333, 6, 0.0, False), (0.3333333333333333, 9, 0.0, False)]\n"
          ]
        }
      ],
      "source": [
        "#Obtaining environment details \n",
        "print('Number of Actions', env.action_space.n) \n",
        "print('Number of States ', env.observation_space.n)\n",
        "print('P[10,3]', env.P[10][3])"
      ]
    },
    {
      "cell_type": "code",
      "source": [],
      "metadata": {
        "id": "oBTWhAvk1TrP"
      },
      "execution_count": null,
      "outputs": []
    },
    {
      "cell_type": "code",
      "source": [
        "import numpy as np\n",
        "import matplotlib.pyplot as plt"
      ],
      "metadata": {
        "id": "pUoLxX47GpLX"
      },
      "execution_count": null,
      "outputs": []
    },
    {
      "cell_type": "markdown",
      "source": [
        "# Q1 Q-Value Iteration"
      ],
      "metadata": {
        "id": "WcHddH0l-t44"
      }
    },
    {
      "cell_type": "code",
      "source": [
        "#1 Q-Value Iteration\n",
        "\n",
        "def QVI(env, num_iter=100, gamma = 0.9):\n",
        "\n",
        "    S = env.observation_space.n\n",
        "    A = env.action_space.n\n",
        "\n",
        "    Q = np.zeros(S*A).reshape((S,A))\n",
        "    Qnext = np.zeros(S*A).reshape((S,A))\n",
        "\n",
        "    Qk_diffs = []\n",
        "    \n",
        "    for i in range(num_iter):\n",
        "        for s in range(env.observation_space.n):\n",
        "            for a in range(env.action_space.n):\n",
        "\n",
        "                # calculating expected value part\n",
        "                expected = 0\n",
        "\n",
        "                for prob, s1, rew, status in env.P[s][a]:\n",
        "                    #expected += prob * np.max(Q[s1,:])\n",
        "                    expected += prob*(rew + gamma * np.max(Q[s1,:]))\n",
        "\n",
        "                #Q[s][a] = rew + gamma * expected\n",
        "                Qnext[s][a] = expected\n",
        "\n",
        "        diff = Qnext - Q\n",
        "        Qk_diffs.append(np.max(diff))\n",
        "        #Qk_diffs.append(np.linalg.norm(diff))\n",
        "        Q = np.copy(Qnext)\n",
        "\n",
        "        if(np.linalg.norm(diff, np.inf)<0.001):\n",
        "          print(i)\n",
        "          break\n",
        "\n",
        "    # find optimal policy\n",
        "    optimal_policy = {}\n",
        "\n",
        "    for i in range(S):\n",
        "        optimal_policy[i] = np.argmax(Q[i])\n",
        "\n",
        "    # optimal value function\n",
        "    V = np.zeros(S)\n",
        "\n",
        "    for s in range(S):\n",
        "        V[s] = Q[s][optimal_policy[s]]\n",
        "    #print(Q)\n",
        "\n",
        "    return Q, V, optimal_policy, Qk_diffs"
      ],
      "metadata": {
        "id": "gl2ze9ZVa94W"
      },
      "execution_count": null,
      "outputs": []
    },
    {
      "cell_type": "code",
      "source": [
        "Q, V, pi, Qk_diffs = QVI(env, 100)"
      ],
      "metadata": {
        "id": "y0IMQFs1Y4W2",
        "colab": {
          "base_uri": "https://localhost:8080/"
        },
        "outputId": "ea11eb9b-e292-4b05-b223-89f2eff46369"
      },
      "execution_count": null,
      "outputs": [
        {
          "output_type": "stream",
          "name": "stdout",
          "text": [
            "36\n"
          ]
        }
      ]
    },
    {
      "cell_type": "code",
      "source": [
        "V"
      ],
      "metadata": {
        "colab": {
          "base_uri": "https://localhost:8080/"
        },
        "id": "9UpRzKlOCX6i",
        "outputId": "d52b3ad8-e20b-43fc-bdaf-17ea680fe145"
      },
      "execution_count": null,
      "outputs": [
        {
          "output_type": "execute_result",
          "data": {
            "text/plain": [
              "array([0.06700345, 0.0598181 , 0.07324582, 0.05453296, 0.09013602,\n",
              "       0.        , 0.1115799 , 0.        , 0.14404164, 0.24655338,\n",
              "       0.29895326, 0.        , 0.        , 0.379252  , 0.63866089,\n",
              "       0.        ])"
            ]
          },
          "metadata": {},
          "execution_count": 57
        }
      ]
    },
    {
      "cell_type": "code",
      "source": [
        "pi_qvi = pi"
      ],
      "metadata": {
        "id": "P7BhoKXAyMf1"
      },
      "execution_count": null,
      "outputs": []
    },
    {
      "cell_type": "code",
      "source": [
        "pi"
      ],
      "metadata": {
        "id": "gBCaIyMz03rN",
        "colab": {
          "base_uri": "https://localhost:8080/"
        },
        "outputId": "57318e60-8e5e-4550-ede4-4a3f895251db"
      },
      "execution_count": null,
      "outputs": [
        {
          "output_type": "execute_result",
          "data": {
            "text/plain": [
              "{0: 0,\n",
              " 1: 3,\n",
              " 2: 0,\n",
              " 3: 3,\n",
              " 4: 0,\n",
              " 5: 0,\n",
              " 6: 0,\n",
              " 7: 0,\n",
              " 8: 3,\n",
              " 9: 1,\n",
              " 10: 0,\n",
              " 11: 0,\n",
              " 12: 0,\n",
              " 13: 2,\n",
              " 14: 1,\n",
              " 15: 0}"
            ]
          },
          "metadata": {},
          "execution_count": 183
        }
      ]
    },
    {
      "cell_type": "code",
      "source": [
        "plt.plot(range(len(Qk_diffs)),Qk_diffs)\n",
        "plt.xlabel('Iterations')\n",
        "plt.ylabel('||Qk - Qk-1||')"
      ],
      "metadata": {
        "colab": {
          "base_uri": "https://localhost:8080/",
          "height": 297
        },
        "id": "iqOEtgUzzPXB",
        "outputId": "6fda79bf-de54-41cf-966d-4a3184f13002"
      },
      "execution_count": null,
      "outputs": [
        {
          "output_type": "execute_result",
          "data": {
            "text/plain": [
              "Text(0, 0.5, '||Qk - Qk-1||')"
            ]
          },
          "metadata": {},
          "execution_count": 33
        },
        {
          "output_type": "display_data",
          "data": {
            "text/plain": [
              "<Figure size 432x288 with 1 Axes>"
            ],
            "image/png": "[encoded data removed]"
          },
          "metadata": {
            "needs_background": "light"
          }
        }
      ]
    },
    {
      "cell_type": "markdown",
      "metadata": {
        "id": "XjfT6rdrUedZ"
      },
      "source": [
        "## Generating a Heatmap \n",
        "* Use the following function fancy_visual to obtain a heat map. The arguments to the function are the value function and its corresponding policy. \n",
        "* This function also prints the value function and policy. "
      ]
    },
    {
      "cell_type": "code",
      "execution_count": null,
      "metadata": {
        "colab": {
          "base_uri": "https://localhost:8080/",
          "height": 627
        },
        "id": "_9plZ0fPUedZ",
        "outputId": "724ee88e-1e93-447b-b462-f60ec3c4c22a"
      },
      "outputs": [
        {
          "output_type": "stream",
          "name": "stdout",
          "text": [
            "Value Function [0.06889059 0.06141431 0.07440957 0.05580711 0.09185426 0.\n",
            " 0.1122081  0.         0.14543612 0.2474968  0.29961748 0.\n",
            " 0.         0.37993579 0.63902009 0.        ]\n",
            "Policy {0: 0, 1: 3, 2: 0, 3: 3, 4: 0, 5: 0, 6: 0, 7: 0, 8: 3, 9: 1, 10: 0, 11: 0, 12: 0, 13: 2, 14: 1, 15: 0}\n"
          ]
        },
        {
          "output_type": "display_data",
          "data": {
            "text/plain": [
              "<Figure size 792x648 with 2 Axes>"
            ],
            "image/png": "[encoded data removed]"
          },
          "metadata": {
            "needs_background": "light"
          }
        }
      ],
      "source": [
        "%matplotlib inline\n",
        "import seaborn\n",
        "import matplotlib.pyplot as plt\n",
        "from matplotlib.colors import LogNorm\n",
        "import numpy as np\n",
        "def fancy_visual(value_func,policy_int):    \n",
        "    grid = 4    \n",
        "    f, ax = plt.subplots(figsize=(11, 9))\n",
        "    cmap = seaborn.diverging_palette(220, 10, as_cmap=True)\n",
        "    reshaped = np.reshape(value_func,(grid,grid))\n",
        "    seaborn.heatmap(reshaped, cmap=\"icefire\",vmax=1.1, robust = True,\n",
        "                square=True, xticklabels=grid+1, yticklabels=grid+1,\n",
        "                linewidths=.5, cbar_kws={\"shrink\": .5}, ax=ax, annot=True, fmt=\"f\")\n",
        "    counter = 0\n",
        "    for j in range(0, 4):\n",
        "        for i in range(0, 4):\n",
        "            if int(policy_int[counter]) == 1:\n",
        "                plt.text(i+0.5, j+0.7, u'\\u2193', fontsize=12)\n",
        "            elif int(policy_int[counter]) == 3:\n",
        "                plt.text(i+0.5, j+0.7, u'\\u2191', fontsize=12)\n",
        "            elif int(policy_int[counter]) == 0:\n",
        "                plt.text(i+0.5, j+0.7, u'\\u2190', fontsize=12)\n",
        "            else:\n",
        "                plt.text(i+0.5, j+0.7, u'\\u2192', fontsize=12)\n",
        "            counter=counter+1\n",
        "\n",
        "    plt.title('Heatmap of policy iteration with value function values and directions')\n",
        "    print('Value Function',value_func)\n",
        "    print('Policy',policy_int)\n",
        "    plt.show()\n",
        "\n",
        "#test_value = np.random.rand(16) #Random Value Function (only for plotting)\n",
        "#test_policy = np.random.randint(0,3,16) #Random Policy (only for plotting)\n",
        "fancy_visual(V,pi)"
      ]
    },
    {
      "cell_type": "code",
      "source": [],
      "metadata": {
        "id": "JKyBDCkG0AkN"
      },
      "execution_count": null,
      "outputs": []
    },
    {
      "cell_type": "markdown",
      "source": [
        "## Q2 Policy Evaluation"
      ],
      "metadata": {
        "id": "-6gm4z607XZZ"
      }
    },
    {
      "cell_type": "code",
      "source": [],
      "metadata": {
        "id": "Lczm97w-7Toq"
      },
      "execution_count": null,
      "outputs": []
    },
    {
      "cell_type": "code",
      "source": [
        "S = env.observation_space.n\n",
        "A = env.action_space.n"
      ],
      "metadata": {
        "id": "ps-OONDiAZaK"
      },
      "execution_count": null,
      "outputs": []
    },
    {
      "cell_type": "code",
      "source": [
        "P = np.zeros(S*S*A).reshape((S,S,A))\n",
        "P.shape"
      ],
      "metadata": {
        "colab": {
          "base_uri": "https://localhost:8080/"
        },
        "id": "lGR1nay3AVZP",
        "outputId": "11b89ae5-a03d-490a-90cf-e6e093a84d8e"
      },
      "execution_count": null,
      "outputs": [
        {
          "output_type": "execute_result",
          "data": {
            "text/plain": [
              "(16, 16, 4)"
            ]
          },
          "metadata": {},
          "execution_count": 15
        }
      ]
    },
    {
      "cell_type": "code",
      "source": [
        "# compute transition prob matrix P(s'/s,a)\n",
        "\n",
        "P = np.zeros(S*S*A).reshape((S,S,A))\n",
        "\n",
        "for s in range(S): #s\n",
        "    for a in range(A): #a\n",
        "        for prob, s1, r, status in env.P[s][a]:\n",
        "            P[s][s1][a] += prob\n"
      ],
      "metadata": {
        "id": "lPDKNt1p_gEj"
      },
      "execution_count": null,
      "outputs": []
    },
    {
      "cell_type": "code",
      "source": [],
      "metadata": {
        "id": "DXBZbDtq7TrN"
      },
      "execution_count": null,
      "outputs": []
    },
    {
      "cell_type": "code",
      "source": [
        "#computing matrix for P(s'/s) according to policy pi\n",
        "\n",
        "# uniform dist\n",
        "P_uni = np.zeros(S*S).reshape((S,S))\n",
        "P_opt = np.zeros(S*S).reshape((S,S))\n",
        "\n",
        "for s in range(S):\n",
        "  for s1 in range(S):\n",
        "    P_uni[s][s1] = np.mean(P[s][s1])\n",
        "    P_opt[s][s1] = P[s][s1][pi[s]]\n"
      ],
      "metadata": {
        "id": "RwwKj2jm7Ttx"
      },
      "execution_count": null,
      "outputs": []
    },
    {
      "cell_type": "code",
      "source": [
        "for i in range(S):\n",
        "  print(np.sum(P_uni[i]))"
      ],
      "metadata": {
        "id": "tlRjU2gxGodx"
      },
      "execution_count": null,
      "outputs": []
    },
    {
      "cell_type": "code",
      "source": [
        "# computing pi matrix\n",
        "\n",
        "pi_mat_uni = 0.25*np.ones(S*A).reshape((S,A))\n",
        "pi_mat_opt = np.zeros(S*A).reshape((S,A))\n",
        "\n",
        "for s in range(S):\n",
        "  for a in range(A):\n",
        "    if(pi[s]==a):\n",
        "      pi_mat_opt[s][a] = 1\n",
        "      "
      ],
      "metadata": {
        "id": "2SaeRuj6IqdS"
      },
      "execution_count": null,
      "outputs": []
    },
    {
      "cell_type": "code",
      "source": [
        "pi_mat_opt, P[0][0]"
      ],
      "metadata": {
        "colab": {
          "base_uri": "https://localhost:8080/"
        },
        "id": "jOhVAKh5Nuuu",
        "outputId": "c499bc3a-4991-4100-d564-28d3515d3a93"
      },
      "execution_count": null,
      "outputs": [
        {
          "output_type": "execute_result",
          "data": {
            "text/plain": [
              "(array([[1., 0., 0., 0.],\n",
              "        [0., 0., 0., 1.],\n",
              "        [1., 0., 0., 0.],\n",
              "        [0., 0., 0., 1.],\n",
              "        [1., 0., 0., 0.],\n",
              "        [1., 0., 0., 0.],\n",
              "        [1., 0., 0., 0.],\n",
              "        [1., 0., 0., 0.],\n",
              "        [0., 0., 0., 1.],\n",
              "        [0., 1., 0., 0.],\n",
              "        [1., 0., 0., 0.],\n",
              "        [1., 0., 0., 0.],\n",
              "        [1., 0., 0., 0.],\n",
              "        [0., 0., 1., 0.],\n",
              "        [0., 1., 0., 0.],\n",
              "        [1., 0., 0., 0.]]),\n",
              " array([0.66666667, 0.33333333, 0.33333333, 0.66666667]))"
            ]
          },
          "metadata": {},
          "execution_count": 98
        }
      ]
    },
    {
      "cell_type": "code",
      "source": [
        "# computing rpi \n",
        "\n",
        "rpi_opt = np.zeros(S)\n",
        "rpi_uni = np.zeros(S)\n",
        "\n",
        "for s in range(S):\n",
        "  for a in range(A):\n",
        "    for prob,s1,r,stat in env.P[s][a]:\n",
        "      rpi_opt[s] += r*prob*pi_mat_opt[s][a]\n",
        "      rpi_uni[s] += r*prob*pi_mat_uni[s][a]\n",
        "\n",
        "      "
      ],
      "metadata": {
        "id": "dD8Rgm9WUCb4"
      },
      "execution_count": null,
      "outputs": []
    },
    {
      "cell_type": "code",
      "source": [
        "# opt policy\n",
        "gamma = 0.9\n",
        "V_opt_lin = np.linalg.solve((np.eye(S)-gamma*P_opt), rpi_opt)\n",
        "V_uni_lin = np.linalg.solve((np.eye(S)-gamma*P_uni), rpi_uni)"
      ],
      "metadata": {
        "id": "w_0JmDrJ7Tz9"
      },
      "execution_count": null,
      "outputs": []
    },
    {
      "cell_type": "code",
      "source": [
        "V_opt_lin"
      ],
      "metadata": {
        "colab": {
          "base_uri": "https://localhost:8080/"
        },
        "id": "UH57LgP4V63v",
        "outputId": "b93afe9b-448a-42d6-9f80-c1422838663e"
      },
      "execution_count": null,
      "outputs": [
        {
          "output_type": "execute_result",
          "data": {
            "text/plain": [
              "array([6.88909049e-02, 6.14145715e-02, 7.44097620e-02, 5.58073215e-02,\n",
              "       9.18545399e-02, 1.85037171e-16, 1.12208206e-01, 0.00000000e+00,\n",
              "       1.45436355e-01, 2.47496955e-01, 2.99617593e-01, 0.00000000e+00,\n",
              "       0.00000000e+00, 3.79935901e-01, 6.39020148e-01, 0.00000000e+00])"
            ]
          },
          "metadata": {},
          "execution_count": 93
        }
      ]
    },
    {
      "cell_type": "code",
      "source": [
        "V_uni_lin"
      ],
      "metadata": {
        "colab": {
          "base_uri": "https://localhost:8080/"
        },
        "id": "e5O1JiR4V56R",
        "outputId": "5de9913d-0239-4d84-e37b-8caf1901ad66"
      },
      "execution_count": null,
      "outputs": [
        {
          "output_type": "execute_result",
          "data": {
            "text/plain": [
              "array([ 4.47726069e-03,  4.22245661e-03,  1.00667565e-02,  4.11821857e-03,\n",
              "        6.72195841e-03,  1.35138317e-16,  2.63337084e-02,  0.00000000e+00,\n",
              "        1.86761516e-02,  5.76070083e-02,  1.06971947e-01,  0.00000000e+00,\n",
              "       -5.69561934e-17,  1.30383049e-01,  3.91490160e-01,  0.00000000e+00])"
            ]
          },
          "metadata": {},
          "execution_count": 91
        }
      ]
    },
    {
      "cell_type": "code",
      "source": [
        "# part b : Iterative Approach"
      ],
      "metadata": {
        "id": "FOnjU5BVXXDd"
      },
      "execution_count": null,
      "outputs": []
    },
    {
      "cell_type": "code",
      "source": [
        "def compute_rpi(env, policy_mat):\n",
        "\n",
        "  S = env.observation_space.n\n",
        "  A = env.action_space.n\n",
        "\n",
        "  r_pi = np.zeros(S)\n",
        "\n",
        "  for s in range(S):\n",
        "    for a in range(A):\n",
        "      for prob,s1,r,stat in env.P[s][a]:\n",
        "        r_pi[s] += r*prob*policy_mat[s][a]\n",
        "\n",
        "  return r_pi\n"
      ],
      "metadata": {
        "id": "abWqbbsZK235"
      },
      "execution_count": null,
      "outputs": []
    },
    {
      "cell_type": "code",
      "source": [
        "def compute_P(env):\n",
        "  \n",
        "  S = env.observation_space.n\n",
        "  A = env.action_space.n\n",
        "\n",
        "  P = np.zeros(S*S*A).reshape((S,S,A))\n",
        "\n",
        "  for s in range(S): #s\n",
        "    for a in range(A): #a\n",
        "      for prob, s1, r, status in env.P[s][a]:\n",
        "          P[s][s1][a] += prob\n",
        "\n",
        "  return P\n",
        "\n",
        "\n",
        "def compute_P_s1_s(env, policy_mat):\n",
        "\n",
        "    S = env.observation_space.n\n",
        "    A = env.action_space.n\n",
        "\n",
        "    P_s1_s = np.zeros(S*S).reshape((S,S))\n",
        "\n",
        "    S = env.observation_space.n\n",
        "    A = env.action_space.n\n",
        "\n",
        "    P = compute_P(env)\n",
        "\n",
        "    #print(P.shape, P[0].shape, P[0][0].shape)\n",
        "    #print(policy_mat[0].shape)\n",
        "\n",
        "    for s in range(S):\n",
        "      for s1 in range(S):\n",
        "        #P_uni[s][s1] = np.mean(P[s][s1])\n",
        "        P_s1_s[s][s1] = np.dot(policy_mat[s],P[s][s1].T)\n",
        "        #P_opt[s][s1] = P[s][s1][pi[s]]\n",
        "\n",
        "    return P_s1_s\n",
        "\n"
      ],
      "metadata": {
        "id": "KrSAcfH6MEMk"
      },
      "execution_count": null,
      "outputs": []
    },
    {
      "cell_type": "code",
      "source": [],
      "metadata": {
        "id": "-HbNxJdjStFB"
      },
      "execution_count": null,
      "outputs": []
    },
    {
      "cell_type": "code",
      "source": [
        "def value_iteration(env, policy_mat, num_iter = 100, gamma = 0.9):\n",
        "\n",
        "  S = env.observation_space.n\n",
        "  A = env.action_space.n\n",
        "\n",
        "  r_pi = compute_rpi(env, policy_mat)\n",
        "\n",
        "  Vnext = np.zeros(S)\n",
        "  V = np.zeros(S)\n",
        "\n",
        "  P_s1_s = compute_P_s1_s(env, policy_mat)\n",
        "\n",
        "  for i in range(num_iter):\n",
        "    Vnext = r_pi + gamma*np.matmul(P_s1_s,V)\n",
        "    V = Vnext\n",
        "\n",
        "  return Vnext   \n"
      ],
      "metadata": {
        "id": "b-5oiRK_ugD6"
      },
      "execution_count": null,
      "outputs": []
    },
    {
      "cell_type": "code",
      "source": [
        "value_iteration(env, pi_mat_opt)"
      ],
      "metadata": {
        "colab": {
          "base_uri": "https://localhost:8080/"
        },
        "id": "4w9YIxxzTgLH",
        "outputId": "8a5984ba-8022-4cc7-ce3a-b0b40d84b417"
      },
      "execution_count": null,
      "outputs": [
        {
          "output_type": "execute_result",
          "data": {
            "text/plain": [
              "array([0.06889058, 0.0614143 , 0.07440956, 0.0558071 , 0.09185425,\n",
              "       0.        , 0.1122081 , 0.        , 0.14543612, 0.2474968 ,\n",
              "       0.29961748, 0.        , 0.        , 0.37993579, 0.63902009,\n",
              "       0.        ])"
            ]
          },
          "metadata": {},
          "execution_count": 21
        }
      ]
    },
    {
      "cell_type": "code",
      "source": [
        "Value Function [0.06889059 0.06141431 0.07440957 0.05580711 0.09185426 0.\n",
        " 0.1122081  0.         0.14543612 0.2474968  0.29961748 0.\n",
        " 0.         0.37993579 0.63902009 0.        ]"
      ],
      "metadata": {
        "id": "UnpPg2easWnS"
      },
      "execution_count": null,
      "outputs": []
    },
    {
      "cell_type": "code",
      "source": [
        "value_iteration(env, pi_mat_uni)"
      ],
      "metadata": {
        "colab": {
          "base_uri": "https://localhost:8080/"
        },
        "id": "kF2LyK5U7v8l",
        "outputId": "afb65d9c-b918-497a-87f9-a0b10f62eead"
      },
      "execution_count": null,
      "outputs": [
        {
          "output_type": "execute_result",
          "data": {
            "text/plain": [
              "array([0.00447726, 0.00422246, 0.01006676, 0.00411822, 0.00672196,\n",
              "       0.        , 0.02633371, 0.        , 0.01867615, 0.05760701,\n",
              "       0.10697195, 0.        , 0.        , 0.13038305, 0.39149016,\n",
              "       0.        ])"
            ]
          },
          "metadata": {},
          "execution_count": 42
        }
      ]
    },
    {
      "cell_type": "code",
      "source": [],
      "metadata": {
        "id": "mEQK599W7wAa"
      },
      "execution_count": null,
      "outputs": []
    },
    {
      "cell_type": "markdown",
      "source": [
        "# Q3 : Policy Iteration"
      ],
      "metadata": {
        "id": "C51dE0doVG_m"
      }
    },
    {
      "cell_type": "code",
      "source": [
        "def policy_improvement(env, policy_mat, V):\n",
        "  \n",
        "  S = env.observation_space.n\n",
        "  A = env.action_space.n\n",
        "  policy_next = np.zeros_like(policy_mat)\n",
        "\n",
        "  #print(\"policy imp\")\n",
        "  for s in range(S):\n",
        "    \n",
        "    values = []\n",
        "    \n",
        "    for a in range(A):\n",
        "      \n",
        "      value = 0.0\n",
        "      \n",
        "      for prob, s1, r, stat in env.P[s][a]:\n",
        "        value+= prob*(r + gamma*V[s1])\n",
        "      \n",
        "      values.append(value)\n",
        "    \n",
        "    #print(values)\n",
        "    policy_next[s][np.argmax(values)] = 1.0\n",
        "\n",
        "  return policy_next\n",
        "\n",
        "def policy_iteration(env, num_iter):\n",
        "  \n",
        "  S = env.observation_space.n\n",
        "  A = env.action_space.n\n",
        "\n",
        "  # consider random policy\n",
        "  pi = np.zeros(S*A).reshape((S,A))\n",
        "  pi[:,0] = 1.0 # all zero action\n",
        "  \n",
        "  Q_diffs = []\n",
        "  Vpi_prev = np.zeros(S)\n",
        "  print_done = False\n",
        "\n",
        "  for i in range(num_iter):\n",
        "    # evaluate policy\n",
        "    Vpi = value_iteration(env, pi)\n",
        "    #print(\"Iteration: {}\".format(i))\n",
        "    #print(pi)\n",
        "    #print(Vpi)\n",
        "    pi_next = policy_improvement(env, pi, Vpi)\n",
        "    #print(pi_next)\n",
        "    \n",
        "    #if(pi==pi_next).all():\n",
        "    #  print(i)\n",
        "    #  break\n",
        "\n",
        "    diff = Vpi - Vpi_prev\n",
        "\n",
        "    if(i>0):\n",
        "      Q_diffs.append(diff)\n",
        "    pi = pi_next \n",
        "\n",
        "    #print(Vpi)\n",
        "    if(np.linalg.norm(diff, np.inf)<0.001):\n",
        "      if(i!=0 and print_done==False):\n",
        "        print(\"Converged at iteration {}\".format(i))\n",
        "        print_done = True\n",
        "\n",
        "        #break\n",
        "\n",
        "    Vpi_prev = np.copy(Vpi)\n",
        "\n",
        "  plot(['iterations','||Vk-Vk-1||'], Q_diffs, 1)\n",
        "\n",
        "  return pi_next, Vpi\n",
        "    \n"
      ],
      "metadata": {
        "id": "qCOuaPKnTgUq"
      },
      "execution_count": null,
      "outputs": []
    },
    {
      "cell_type": "code",
      "source": [
        "pol_mat, Vpi_pol_iter = policy_iteration(env,100)"
      ],
      "metadata": {
        "colab": {
          "base_uri": "https://localhost:8080/",
          "height": 297
        },
        "id": "Qe0hSUQkVKD3",
        "outputId": "98c3eb08-7df0-4052-9d02-80fc533d4685"
      },
      "execution_count": null,
      "outputs": [
        {
          "output_type": "stream",
          "name": "stdout",
          "text": [
            "Converged at iteration 6\n"
          ]
        },
        {
          "output_type": "display_data",
          "data": {
            "text/plain": [
              "<Figure size 432x288 with 1 Axes>"
            ],
            "image/png": "[encoded data removed]"
          },
          "metadata": {
            "needs_background": "light"
          }
        }
      ]
    },
    {
      "cell_type": "code",
      "source": [
        "pol_mat, Vpi_pol_iter = policy_iteration(env,20)"
      ],
      "metadata": {
        "colab": {
          "base_uri": "https://localhost:8080/"
        },
        "id": "oYrqX_W7GxLR",
        "outputId": "7d96da79-5959-4777-8b46-1d4e73bf3d73"
      },
      "execution_count": null,
      "outputs": [
        {
          "output_type": "stream",
          "name": "stdout",
          "text": [
            "0\n"
          ]
        }
      ]
    },
    {
      "cell_type": "code",
      "source": [
        "Vpi_pol_iter"
      ],
      "metadata": {
        "colab": {
          "base_uri": "https://localhost:8080/"
        },
        "id": "ljH2AFjxAksE",
        "outputId": "05878048-209a-4fdb-c44f-16a7de27827c"
      },
      "execution_count": null,
      "outputs": [
        {
          "output_type": "execute_result",
          "data": {
            "text/plain": [
              "array([0.06889058, 0.0614143 , 0.07440956, 0.0558071 , 0.09185425,\n",
              "       0.        , 0.1122081 , 0.        , 0.14543612, 0.2474968 ,\n",
              "       0.29961748, 0.        , 0.        , 0.37993579, 0.63902009,\n",
              "       0.        ])"
            ]
          },
          "metadata": {},
          "execution_count": 127
        }
      ]
    },
    {
      "cell_type": "code",
      "source": [
        "opt_pol = {}\n",
        "for i in range(S):\n",
        "  opt_pol[i] = np.argmax(pol_mat[i])\n",
        "\n",
        "opt_pol"
      ],
      "metadata": {
        "colab": {
          "base_uri": "https://localhost:8080/"
        },
        "id": "HuFdUoAgxfoM",
        "outputId": "c54b2810-d302-4853-88ce-3b85d796b5e0"
      },
      "execution_count": null,
      "outputs": [
        {
          "output_type": "execute_result",
          "data": {
            "text/plain": [
              "{0: 0,\n",
              " 1: 3,\n",
              " 2: 0,\n",
              " 3: 3,\n",
              " 4: 0,\n",
              " 5: 0,\n",
              " 6: 0,\n",
              " 7: 0,\n",
              " 8: 3,\n",
              " 9: 1,\n",
              " 10: 0,\n",
              " 11: 0,\n",
              " 12: 0,\n",
              " 13: 2,\n",
              " 14: 1,\n",
              " 15: 0}"
            ]
          },
          "metadata": {},
          "execution_count": 128
        }
      ]
    },
    {
      "cell_type": "code",
      "source": [],
      "metadata": {
        "id": "LcrWkvDsVKQ5"
      },
      "execution_count": null,
      "outputs": []
    },
    {
      "cell_type": "markdown",
      "metadata": {
        "id": "gV7r46PvUedZ"
      },
      "source": [
        "# Q Learning \n",
        "* Q learning is a model free approach, thus you will not use the transition kernel. \n",
        "* You can reset the environment using env.reset()\n",
        "* env.step(action) takes in action as an argument and gives next state,reward,terminal and info as the output "
      ]
    },
    {
      "cell_type": "code",
      "execution_count": null,
      "metadata": {
        "id": "6n-_Jx1VUeda",
        "outputId": "2dfac580-2590-47cc-b7d5-cf3756e49714"
      },
      "outputs": [
        {
          "name": "stdout",
          "output_type": "stream",
          "text": [
            "Time: 0 State: 0 Action: 3 Reward: 0.0 Next State: 0 Terminal: False\n",
            "Time: 1 State: 0 Action: 1 Reward: 0.0 Next State: 1 Terminal: False\n",
            "Time: 2 State: 1 Action: 2 Reward: 0.0 Next State: 2 Terminal: False\n",
            "Time: 3 State: 2 Action: 2 Reward: 0.0 Next State: 6 Terminal: False\n",
            "Time: 4 State: 6 Action: 0 Reward: 0.0 Next State: 2 Terminal: False\n",
            "Time: 5 State: 2 Action: 0 Reward: 0.0 Next State: 1 Terminal: False\n",
            "Time: 6 State: 1 Action: 2 Reward: 0.0 Next State: 5 Terminal: True\n"
          ]
        }
      ],
      "source": [
        "state, info = env.reset() #Reset the env\n",
        "max_step = 20 \n",
        "for step in range(max_step):    \n",
        "    action = env.action_space.sample() #Random Action\n",
        "    n_state,reward,terminal,truncated,info = env.step(action) #Take a step \n",
        "    print(\"Time:\",step,'State:',state,'Action:',action,'Reward:',reward,'Next State:',n_state,'Terminal:',terminal)\n",
        "    state = n_state \n",
        "    if terminal or truncated: #Episode ends if the termination or truncation is true\n",
        "        break   "
      ]
    },
    {
      "cell_type": "code",
      "execution_count": null,
      "metadata": {
        "id": "nJ7ZoOocUeda"
      },
      "outputs": [],
      "source": []
    },
    {
      "cell_type": "markdown",
      "source": [
        "## Q1 Tabular Q-Learning"
      ],
      "metadata": {
        "id": "lyGSldy3I5k_"
      }
    },
    {
      "cell_type": "markdown",
      "source": [
        "Tabular Q-Learning"
      ],
      "metadata": {
        "id": "vIlIl4mSJAn_"
      }
    },
    {
      "cell_type": "code",
      "source": [
        "Q_opt_QVI, V, pi, Qk_diffs = QVI(env, 100)"
      ],
      "metadata": {
        "id": "JimhUphGMr-b",
        "colab": {
          "base_uri": "https://localhost:8080/"
        },
        "outputId": "f05aa8f4-afee-407d-c7c6-1caa9aafcd44"
      },
      "execution_count": null,
      "outputs": [
        {
          "output_type": "stream",
          "name": "stdout",
          "text": [
            "36\n"
          ]
        }
      ]
    },
    {
      "cell_type": "code",
      "source": [
        "Q_opt_QVI"
      ],
      "metadata": {
        "colab": {
          "base_uri": "https://localhost:8080/"
        },
        "id": "kQnw3I5lffhj",
        "outputId": "73a2b764-cff6-4fee-f213-66557c4b63fb"
      },
      "execution_count": null,
      "outputs": [
        {
          "output_type": "execute_result",
          "data": {
            "text/plain": [
              "array([[0.06724288, 0.06508727, 0.06508727, 0.0581475 ],\n",
              "       [0.03804647, 0.04207478, 0.03991917, 0.06002021],\n",
              "       [0.07339314, 0.06777929, 0.0718076 , 0.05627906],\n",
              "       [0.03833363, 0.03833363, 0.03271977, 0.05469352],\n",
              "       [0.09035433, 0.0702533 , 0.06331353, 0.04714184],\n",
              "       [0.        , 0.        , 0.        , 0.        ],\n",
              "       [0.11165972, 0.08968598, 0.11165972, 0.02197374],\n",
              "       [0.        , 0.        , 0.        , 0.        ],\n",
              "       [0.0702533 , 0.11717851, 0.10100682, 0.14421931],\n",
              "       [0.15698809, 0.24667407, 0.20346158, 0.13289847],\n",
              "       [0.29903825, 0.26556428, 0.22507224, 0.10743998],\n",
              "       [0.        , 0.        , 0.        , 0.        ],\n",
              "       [0.        , 0.        , 0.        , 0.        ],\n",
              "       [0.18774162, 0.30537387, 0.37933988, 0.26556428],\n",
              "       [0.39505985, 0.6387072 , 0.61461758, 0.53679491],\n",
              "       [0.        , 0.        , 0.        , 0.        ]])"
            ]
          },
          "metadata": {},
          "execution_count": 9
        }
      ]
    },
    {
      "cell_type": "code",
      "source": [
        "Q_opt_QVI"
      ],
      "metadata": {
        "colab": {
          "base_uri": "https://localhost:8080/"
        },
        "id": "YjPOdZMkM_Re",
        "outputId": "4496f2fc-d8ba-4dbd-e263-13db0967dbe3"
      },
      "execution_count": null,
      "outputs": [
        {
          "output_type": "execute_result",
          "data": {
            "text/plain": [
              "array([[0.06724288, 0.06508727, 0.06508727, 0.0581475 ],\n",
              "       [0.03804647, 0.04207478, 0.03991917, 0.06002021],\n",
              "       [0.07339314, 0.06777929, 0.0718076 , 0.05627906],\n",
              "       [0.03833363, 0.03833363, 0.03271977, 0.05469352],\n",
              "       [0.09035433, 0.0702533 , 0.06331353, 0.04714184],\n",
              "       [0.        , 0.        , 0.        , 0.        ],\n",
              "       [0.11165972, 0.08968598, 0.11165972, 0.02197374],\n",
              "       [0.        , 0.        , 0.        , 0.        ],\n",
              "       [0.0702533 , 0.11717851, 0.10100682, 0.14421931],\n",
              "       [0.15698809, 0.24667407, 0.20346158, 0.13289847],\n",
              "       [0.29903825, 0.26556428, 0.22507224, 0.10743998],\n",
              "       [0.        , 0.        , 0.        , 0.        ],\n",
              "       [0.        , 0.        , 0.        , 0.        ],\n",
              "       [0.18774162, 0.30537387, 0.37933988, 0.26556428],\n",
              "       [0.39505985, 0.6387072 , 0.61461758, 0.53679491],\n",
              "       [0.        , 0.        , 0.        , 0.        ]])"
            ]
          },
          "metadata": {},
          "execution_count": 41
        }
      ]
    },
    {
      "cell_type": "code",
      "source": [
        "state, info = env.reset()\n",
        "\n",
        "S = env.observation_space.n\n",
        "A = env.action_space.n\n",
        "\n",
        "Q = np.zeros(S*A).reshape((S,A)) #init\n",
        "Qnext = np.zeros(S*A).reshape((S,A))\n",
        "\n",
        "num_episodes = 100000\n",
        "episode_len = 100\n",
        "\n",
        "alpha = 0.5\n",
        "eps = 0.5\n",
        "\n",
        "cum_rewards = []\n",
        "q_diffs = []\n",
        "\n",
        "for i in range(num_episodes):\n",
        "\n",
        "  if(i%1000==0):\n",
        "    alpha = alpha*0.7\n",
        "    eps = eps*0.7\n",
        "\n",
        "  state, info = env.reset() #restart episode\n",
        "  cum_reward = 0\n",
        "\n",
        "  for step in range(episode_len):\n",
        "    best_action = np.argmax(Q[state])\n",
        "\n",
        "    actions = [0,1,2,3]\n",
        "    if(np.random.uniform(0,1.0)<eps):\n",
        "      actions.remove(np.argmax(Q[state]))\n",
        "      action = actions[np.random.randint(3)]\n",
        "    else:\n",
        "      action = np.argmax(Q[state])\n",
        "    \n",
        "    #action = env.action_space.sample() #Random Action\n",
        "    \n",
        "    #print(action)\n",
        "    n_state,reward,terminal,truncated,info = env.step(action) #Take a step\n",
        "\n",
        "    Q[state][action] += alpha*(reward + gamma* np.max(Q[n_state]) - Q[state][action]) \n",
        "\n",
        "    cum_reward += np.power(gamma, step)*reward\n",
        "    state = n_state\n",
        "\n",
        "    if(terminal):\n",
        "      break\n",
        "\n",
        "  cum_rewards.append(cum_reward)\n",
        "  q_diffs.append(np.linalg.norm((Q-Q_opt_QVI)))\n",
        "\n",
        "\n",
        "  if(np.linalg.norm((Q-Q_opt_QVI))< 0.0001):\n",
        "    print(\"converged in episode: {}\".format(i))\n",
        "    break\n",
        "  #break\n"
      ],
      "metadata": {
        "id": "4ogv67twI-kH"
      },
      "execution_count": null,
      "outputs": []
    },
    {
      "cell_type": "code",
      "source": [
        "Q"
      ],
      "metadata": {
        "colab": {
          "base_uri": "https://localhost:8080/"
        },
        "id": "WhPf6m-UVklO",
        "outputId": "81cd1cd8-f4a0-45ac-ba00-217fe6f3cc59"
      },
      "execution_count": null,
      "outputs": [
        {
          "output_type": "execute_result",
          "data": {
            "text/plain": [
              "array([[0.06948031, 0.06133388, 0.06107116, 0.05786403],\n",
              "       [0.03163367, 0.03688761, 0.03389501, 0.0604807 ],\n",
              "       [0.07370742, 0.05277824, 0.05532684, 0.04536059],\n",
              "       [0.03555709, 0.03171504, 0.02762581, 0.04049583],\n",
              "       [0.09271984, 0.06809523, 0.06545005, 0.04951213],\n",
              "       [0.        , 0.        , 0.        , 0.        ],\n",
              "       [0.1119248 , 0.07966829, 0.080969  , 0.0181551 ],\n",
              "       [0.        , 0.        , 0.        , 0.        ],\n",
              "       [0.07410653, 0.12325768, 0.0955382 , 0.14707125],\n",
              "       [0.14498849, 0.25004443, 0.18075071, 0.10978479],\n",
              "       [0.30154216, 0.20972973, 0.22535725, 0.10514387],\n",
              "       [0.        , 0.        , 0.        , 0.        ],\n",
              "       [0.        , 0.        , 0.        , 0.        ],\n",
              "       [0.1802798 , 0.26554971, 0.38172472, 0.25501768],\n",
              "       [0.3998549 , 0.64029773, 0.53564943, 0.49807985],\n",
              "       [0.        , 0.        , 0.        , 0.        ]])"
            ]
          },
          "metadata": {},
          "execution_count": 43
        }
      ]
    },
    {
      "cell_type": "code",
      "source": [
        "Q_opt_QVI"
      ],
      "metadata": {
        "colab": {
          "base_uri": "https://localhost:8080/"
        },
        "id": "sHaYm8HjNRcm",
        "outputId": "c14872b6-a9f4-4413-fa86-9d47e3b67250"
      },
      "execution_count": null,
      "outputs": [
        {
          "output_type": "execute_result",
          "data": {
            "text/plain": [
              "array([[0.06724288, 0.06508727, 0.06508727, 0.0581475 ],\n",
              "       [0.03804647, 0.04207478, 0.03991917, 0.06002021],\n",
              "       [0.07339314, 0.06777929, 0.0718076 , 0.05627906],\n",
              "       [0.03833363, 0.03833363, 0.03271977, 0.05469352],\n",
              "       [0.09035433, 0.0702533 , 0.06331353, 0.04714184],\n",
              "       [0.        , 0.        , 0.        , 0.        ],\n",
              "       [0.11165972, 0.08968598, 0.11165972, 0.02197374],\n",
              "       [0.        , 0.        , 0.        , 0.        ],\n",
              "       [0.0702533 , 0.11717851, 0.10100682, 0.14421931],\n",
              "       [0.15698809, 0.24667407, 0.20346158, 0.13289847],\n",
              "       [0.29903825, 0.26556428, 0.22507224, 0.10743998],\n",
              "       [0.        , 0.        , 0.        , 0.        ],\n",
              "       [0.        , 0.        , 0.        , 0.        ],\n",
              "       [0.18774162, 0.30537387, 0.37933988, 0.26556428],\n",
              "       [0.39505985, 0.6387072 , 0.61461758, 0.53679491],\n",
              "       [0.        , 0.        , 0.        , 0.        ]])"
            ]
          },
          "metadata": {},
          "execution_count": 47
        }
      ]
    },
    {
      "cell_type": "code",
      "source": [],
      "metadata": {
        "id": "meS-4c7dg1-Z"
      },
      "execution_count": null,
      "outputs": []
    },
    {
      "cell_type": "markdown",
      "source": [
        "a) Plot Gk"
      ],
      "metadata": {
        "id": "14eX96rNSHXp"
      }
    },
    {
      "cell_type": "code",
      "source": [],
      "metadata": {
        "id": "1zeiyPB0NcDi"
      },
      "execution_count": null,
      "outputs": []
    },
    {
      "cell_type": "code",
      "source": [
        "def plot(name, y, window=1):\n",
        "    i = 0\n",
        "    new_y = []\n",
        "    while i < len(y):\n",
        "        new_y.append(np.mean(y[i: i+window]))\n",
        "        i += window\n",
        "    plt.plot(new_y)\n",
        "    plt.ylabel= name[1]\n",
        "    plt.xlabel = name[0]\n",
        "    plt.show()"
      ],
      "metadata": {
        "id": "QJbjm8zRSNPx"
      },
      "execution_count": null,
      "outputs": []
    },
    {
      "cell_type": "code",
      "source": [
        "plot(['episodes','Gk'], cum_rewards[:100000], 100)"
      ],
      "metadata": {
        "colab": {
          "base_uri": "https://localhost:8080/",
          "height": 279
        },
        "id": "Q0V1ulQ0SNTs",
        "outputId": "a67a7b1d-0ab6-4dbc-e556-d17d80d0bb8c"
      },
      "execution_count": null,
      "outputs": [
        {
          "output_type": "display_data",
          "data": {
            "text/plain": [
              "<Figure size 432x288 with 1 Axes>"
            ],
            "image/png": "[encoded data removed]"
          },
          "metadata": {
            "needs_background": "light"
          }
        }
      ]
    },
    {
      "cell_type": "code",
      "source": [],
      "metadata": {
        "id": "QkKSsGTAqbz6"
      },
      "execution_count": null,
      "outputs": []
    },
    {
      "cell_type": "code",
      "source": [
        "def sliding_window_smoothing(x, window_size):\n",
        "    \"\"\"\n",
        "    Smooths the input list of values using a sliding window of the specified size.\n",
        "    \n",
        "    Arguments:\n",
        "    x -- the list of values to be smoothed\n",
        "    window_size -- the size of the sliding window to use\n",
        "    \n",
        "    Returns:\n",
        "    A list of the smoothed values.\n",
        "    \"\"\"\n",
        "    half_window = int(window_size / 2)\n",
        "    padded_x = np.pad(x, (half_window, half_window), mode='edge')\n",
        "    smoothed_x = []\n",
        "    for i in range(half_window, len(x) + half_window):\n",
        "        smoothed_x.append(np.mean(padded_x[i - half_window:i + half_window + 1]))\n",
        "    return smoothed_x\n",
        "\n",
        "smoothed_x = sliding_window_smoothing(cum_rewards, 500)\n",
        "\n",
        "# Plot the original data and the smoothed data\n",
        "#plt.plot(cum_rewards, label='Original')\n",
        "\n",
        "plt.plot(range(len(smoothed_x[:-500])),smoothed_x[:-500])#, xlabel = 'num of episodes', ylabel='Gk')\n",
        "plt.xlabel = 'num of episodes'\n",
        "plt.ylabel = 'Gk'\n",
        "#plt.legend()\n",
        "plt.show()"
      ],
      "metadata": {
        "colab": {
          "base_uri": "https://localhost:8080/",
          "height": 265
        },
        "id": "BMJdolPvhroe",
        "outputId": "7d6c67be-4760-41e3-c1da-a5f83f798055"
      },
      "execution_count": null,
      "outputs": [
        {
          "output_type": "display_data",
          "data": {
            "text/plain": [
              "<Figure size 432x288 with 1 Axes>"
            ],
            "image/png": "[encoded data removed]"
          },
          "metadata": {
            "needs_background": "light"
          }
        }
      ]
    },
    {
      "cell_type": "code",
      "source": [],
      "metadata": {
        "id": "gGBX02xGlPA5"
      },
      "execution_count": null,
      "outputs": []
    },
    {
      "cell_type": "code",
      "source": [],
      "metadata": {
        "id": "sg4xW0B5glUF"
      },
      "execution_count": null,
      "outputs": []
    },
    {
      "cell_type": "markdown",
      "source": [
        "b) Plot ||Qk-Q*||"
      ],
      "metadata": {
        "id": "qePW41Agcc3v"
      }
    },
    {
      "cell_type": "code",
      "source": [
        "smoothed_q_diffs = sliding_window_smoothing(q_diffs, 500)"
      ],
      "metadata": {
        "id": "s4pXU2hppY5o"
      },
      "execution_count": null,
      "outputs": []
    },
    {
      "cell_type": "code",
      "source": [],
      "metadata": {
        "id": "gR0UVenRSNYD"
      },
      "execution_count": null,
      "outputs": []
    },
    {
      "cell_type": "code",
      "source": [
        "plt.plot(range(len(smoothed_q_diffs[:-500])),smoothed_q_diffs[:-500])#, xlabel = 'num of episodes', ylabel='Gk')\n",
        "plt.xlabel = 'episodes'\n",
        "plt.ylabel = '||Qk-Q*||'\n",
        "#plt.legend()\n",
        "plt.show()"
      ],
      "metadata": {
        "colab": {
          "base_uri": "https://localhost:8080/",
          "height": 279
        },
        "id": "SawmEF9_NeRm",
        "outputId": "880c919a-28ec-4401-8564-3995549bcbc2"
      },
      "execution_count": null,
      "outputs": [
        {
          "output_type": "display_data",
          "data": {
            "text/plain": [
              "<Figure size 432x288 with 1 Axes>"
            ],
            "image/png": "[encoded data removed]"
          },
          "metadata": {
            "needs_background": "light"
          }
        }
      ]
    },
    {
      "cell_type": "markdown",
      "source": [
        "c) policy and Q-function"
      ],
      "metadata": {
        "id": "2bnt1LAEcjhq"
      }
    },
    {
      "cell_type": "code",
      "source": [
        "# Q func\n",
        "Q"
      ],
      "metadata": {
        "colab": {
          "base_uri": "https://localhost:8080/"
        },
        "id": "Fn3D7oW8SNbN",
        "outputId": "12efbc4d-639e-44e8-88fb-de38d4aee530"
      },
      "execution_count": null,
      "outputs": [
        {
          "output_type": "execute_result",
          "data": {
            "text/plain": [
              "array([[0.06948031, 0.06133388, 0.06107116, 0.05786403],\n",
              "       [0.03163367, 0.03688761, 0.03389501, 0.0604807 ],\n",
              "       [0.07370742, 0.05277824, 0.05532684, 0.04536059],\n",
              "       [0.03555709, 0.03171504, 0.02762581, 0.04049583],\n",
              "       [0.09271984, 0.06809523, 0.06545005, 0.04951213],\n",
              "       [0.        , 0.        , 0.        , 0.        ],\n",
              "       [0.1119248 , 0.07966829, 0.080969  , 0.0181551 ],\n",
              "       [0.        , 0.        , 0.        , 0.        ],\n",
              "       [0.07410653, 0.12325768, 0.0955382 , 0.14707125],\n",
              "       [0.14498849, 0.25004443, 0.18075071, 0.10978479],\n",
              "       [0.30154216, 0.20972973, 0.22535725, 0.10514387],\n",
              "       [0.        , 0.        , 0.        , 0.        ],\n",
              "       [0.        , 0.        , 0.        , 0.        ],\n",
              "       [0.1802798 , 0.26554971, 0.38172472, 0.25501768],\n",
              "       [0.3998549 , 0.64029773, 0.53564943, 0.49807985],\n",
              "       [0.        , 0.        , 0.        , 0.        ]])"
            ]
          },
          "metadata": {},
          "execution_count": 48
        }
      ]
    },
    {
      "cell_type": "code",
      "source": [
        "# policy\n",
        "\n",
        "pol = {}\n",
        "\n",
        "for s in range(S):\n",
        "  pol[s] = np.argmax(Q[s])\n",
        "pol"
      ],
      "metadata": {
        "colab": {
          "base_uri": "https://localhost:8080/"
        },
        "id": "7xyT6VbeSNex",
        "outputId": "f4f0e411-5db6-402b-9442-17992bcf4d91"
      },
      "execution_count": null,
      "outputs": [
        {
          "output_type": "execute_result",
          "data": {
            "text/plain": [
              "{0: 0,\n",
              " 1: 3,\n",
              " 2: 0,\n",
              " 3: 3,\n",
              " 4: 0,\n",
              " 5: 0,\n",
              " 6: 0,\n",
              " 7: 0,\n",
              " 8: 3,\n",
              " 9: 1,\n",
              " 10: 0,\n",
              " 11: 0,\n",
              " 12: 0,\n",
              " 13: 2,\n",
              " 14: 1,\n",
              " 15: 0}"
            ]
          },
          "metadata": {},
          "execution_count": 49
        }
      ]
    },
    {
      "cell_type": "markdown",
      "source": [
        "## Q2 : Behavioral Policy"
      ],
      "metadata": {
        "id": "doyp7w4ydOWE"
      }
    },
    {
      "cell_type": "code",
      "source": [
        "state, info = env.reset()\n",
        "\n",
        "S = env.observation_space.n\n",
        "A = env.action_space.n\n",
        "\n",
        "Q = np.zeros(S*A).reshape((S,A)) #init\n",
        "Qnext = np.zeros(S*A).reshape((S,A))\n",
        "\n",
        "num_episodes = 100000\n",
        "episode_len = 100\n",
        "\n",
        "alpha = 0.5\n",
        "#eps = 0.5\n",
        "\n",
        "cum_rewards = []\n",
        "q_diffs = []\n",
        "\n",
        "for i in range(num_episodes):\n",
        "\n",
        "  if(i%1000==0):\n",
        "    alpha = alpha*0.7\n",
        "    #eps = eps*0.8\n",
        "\n",
        "  state, info = env.reset()\n",
        "  cum_reward = 0\n",
        "\n",
        "  for step in range(episode_len):\n",
        "    #best_action = np.argmax(Q[state])\n",
        "\n",
        "    actions = [0,1,2,3]\n",
        "    #if(np.random.uniform(0,1.0)<eps):\n",
        "    #  actions.remove(np.argmax(Q[state]))\n",
        "    #  action = actions[np.random.randint(3)]\n",
        "    #else:\n",
        "    #  action = np.argmax(Q[state])\n",
        "    \n",
        "    action = np.random.randint(0,4) # action according to uniform dist\n",
        "    \n",
        "    #print(action)\n",
        "    n_state,reward,terminal,truncated,info = env.step(action) #Take a step\n",
        "\n",
        "    Q[state][action] += alpha*(reward + gamma* np.max(Q[n_state]) - Q[state][action]) \n",
        "\n",
        "    cum_reward += np.power(gamma, step)*reward\n",
        "    \n",
        "    state = n_state\n",
        "\n",
        "    if(terminal):\n",
        "      break\n",
        "  \n",
        "  cum_rewards.append(cum_reward)\n",
        "  q_diffs.append(np.linalg.norm((Q-Q_opt_QVI)))\n",
        "\n",
        "  if(np.linalg.norm((Q-Q_opt_QVI), np.inf)<0.001):\n",
        "    print(\"converged in episode : {}\".format(i))\n",
        "    break\n",
        "  \n",
        "\n",
        "  #break\n"
      ],
      "metadata": {
        "id": "FBWJvNyOdNC4"
      },
      "execution_count": null,
      "outputs": []
    },
    {
      "cell_type": "code",
      "source": [
        "smoothed_cum_rewards = sliding_window_smoothing(cum_rewards, 500)\n",
        "plt.plot(range(len(smoothed_cum_rewards[:-500])),smoothed_cum_rewards[:-500])#, xlabel = 'num of episodes', ylabel='Gk')\n",
        "plt.xlabel = 'num of episodes'\n",
        "plt.ylabel = 'Gk'\n",
        "#plt.legend()\n",
        "plt.show()"
      ],
      "metadata": {
        "colab": {
          "base_uri": "https://localhost:8080/",
          "height": 265
        },
        "id": "fAtQ4ha0vc9n",
        "outputId": "8a515593-0b8a-4c42-d910-dbc8bd2c3655"
      },
      "execution_count": null,
      "outputs": [
        {
          "output_type": "display_data",
          "data": {
            "text/plain": [
              "<Figure size 432x288 with 1 Axes>"
            ],
            "image/png": "[encoded data removed]"
          },
          "metadata": {
            "needs_background": "light"
          }
        }
      ]
    },
    {
      "cell_type": "code",
      "source": [
        "smoothed_q_diffs = sliding_window_smoothing(q_diffs, 500)\n",
        "plt.plot(range(len(smoothed_q_diffs[:-500])),smoothed_q_diffs[:-500])#, xlabel = 'num of episodes', ylabel='Gk')\n",
        "plt.xlabel = 'num of episodes'\n",
        "plt.ylabel = 'Gk'\n",
        "#plt.legend()\n",
        "plt.show()"
      ],
      "metadata": {
        "colab": {
          "base_uri": "https://localhost:8080/",
          "height": 269
        },
        "id": "ZywicK1nvgSL",
        "outputId": "5f029def-2ba0-4c09-d2df-2f633437ca7e"
      },
      "execution_count": null,
      "outputs": [
        {
          "output_type": "display_data",
          "data": {
            "text/plain": [
              "<Figure size 432x288 with 1 Axes>"
            ],
            "image/png": "[encoded data removed]"
          },
          "metadata": {
            "needs_background": "light"
          }
        }
      ]
    },
    {
      "cell_type": "code",
      "source": [],
      "metadata": {
        "id": "4mWbR42VMn2M"
      },
      "execution_count": null,
      "outputs": []
    },
    {
      "cell_type": "code",
      "source": [
        "# Q func\n",
        "Q"
      ],
      "metadata": {
        "colab": {
          "base_uri": "https://localhost:8080/"
        },
        "id": "z-a8oSf_dNIq",
        "outputId": "417c5cb4-a021-4214-936e-d1e3881d6295"
      },
      "execution_count": null,
      "outputs": [
        {
          "output_type": "execute_result",
          "data": {
            "text/plain": [
              "array([[0.08275112, 0.08239116, 0.08239574, 0.07414707],\n",
              "       [0.05033148, 0.05619552, 0.05685991, 0.08088915],\n",
              "       [0.1020835 , 0.09483389, 0.10324428, 0.08166297],\n",
              "       [0.05790232, 0.05752851, 0.04841419, 0.08170378],\n",
              "       [0.11063177, 0.08751997, 0.0795587 , 0.05860786],\n",
              "       [0.        , 0.        , 0.        , 0.        ],\n",
              "       [0.14809223, 0.09388672, 0.14339371, 0.03166265],\n",
              "       [0.        , 0.        , 0.        , 0.        ],\n",
              "       [0.08687523, 0.139435  , 0.12283146, 0.17476901],\n",
              "       [0.19295482, 0.28919807, 0.23976179, 0.16075982],\n",
              "       [0.34308726, 0.28072353, 0.25902271, 0.13331267],\n",
              "       [0.        , 0.        , 0.        , 0.        ],\n",
              "       [0.        , 0.        , 0.        , 0.        ],\n",
              "       [0.22224621, 0.31251456, 0.41728717, 0.29430167],\n",
              "       [0.43735113, 0.64059068, 0.6316203 , 0.56884172],\n",
              "       [0.        , 0.        , 0.        , 0.        ]])"
            ]
          },
          "metadata": {},
          "execution_count": 165
        }
      ]
    },
    {
      "cell_type": "code",
      "source": [
        "ValFn = np.zeros(S)\n",
        "for i in range(S):\n",
        " ValFn[i] = max(Q[i]) \n",
        "\n",
        "ValFn"
      ],
      "metadata": {
        "colab": {
          "base_uri": "https://localhost:8080/"
        },
        "id": "YHQYKQgNGXs9",
        "outputId": "f8ca1503-31f8-468d-c3e8-8a10fea54b57"
      },
      "execution_count": null,
      "outputs": [
        {
          "output_type": "execute_result",
          "data": {
            "text/plain": [
              "array([0.08275112, 0.08088915, 0.10324428, 0.08170378, 0.11063177,\n",
              "       0.        , 0.14809223, 0.        , 0.17476901, 0.28919807,\n",
              "       0.34308726, 0.        , 0.        , 0.41728717, 0.64059068,\n",
              "       0.        ])"
            ]
          },
          "metadata": {},
          "execution_count": 168
        }
      ]
    },
    {
      "cell_type": "code",
      "source": [
        "# policy\n",
        "\n",
        "pol = {}\n",
        "\n",
        "for s in range(S):\n",
        "  pol[s] = np.argmax(Q[s])\n",
        "pol"
      ],
      "metadata": {
        "colab": {
          "base_uri": "https://localhost:8080/"
        },
        "id": "Y-l-XKuZdNLW",
        "outputId": "361b5fa6-8269-42bd-f2bc-af9dc3a368ce"
      },
      "execution_count": null,
      "outputs": [
        {
          "output_type": "execute_result",
          "data": {
            "text/plain": [
              "{0: 0,\n",
              " 1: 3,\n",
              " 2: 2,\n",
              " 3: 3,\n",
              " 4: 0,\n",
              " 5: 0,\n",
              " 6: 0,\n",
              " 7: 0,\n",
              " 8: 3,\n",
              " 9: 1,\n",
              " 10: 0,\n",
              " 11: 0,\n",
              " 12: 0,\n",
              " 13: 2,\n",
              " 14: 1,\n",
              " 15: 0}"
            ]
          },
          "metadata": {},
          "execution_count": 175
        }
      ]
    },
    {
      "cell_type": "code",
      "source": [
        "# better policy : greedy policy"
      ],
      "metadata": {
        "id": "bJktGqKzZZuY"
      },
      "execution_count": null,
      "outputs": []
    },
    {
      "cell_type": "code",
      "source": [
        "state, info = env.reset()\n",
        "\n",
        "S = env.observation_space.n\n",
        "A = env.action_space.n\n",
        "\n",
        "Q = np.zeros(S*A).reshape((S,A)) #init\n",
        "Qnext = np.zeros(S*A).reshape((S,A))\n",
        "\n",
        "num_episodes = 100000\n",
        "episode_len = 100\n",
        "\n",
        "alpha = 0.5\n",
        "eps = 0.5\n",
        "\n",
        "cum_rewards = []\n",
        "q_diffs = []\n",
        "\n",
        "for i in range(num_episodes):\n",
        "\n",
        "  if(i%1000==0):\n",
        "    alpha = alpha*0.7\n",
        "    eps = eps*0.7\n",
        "\n",
        "  state, info = env.reset() #restart episode\n",
        "  cum_reward = 0\n",
        "\n",
        "  for step in range(episode_len):\n",
        "    #best_action = np.argmax(Q[state])\n",
        "\n",
        "    actions = [0,1,2,3]\n",
        "    \n",
        "    '''\n",
        "    if(np.random.uniform(0,1.0)<eps and i<1000):\n",
        "      actions.remove(np.argmax(Q[state]))\n",
        "      action = actions[np.random.randint(3)]\n",
        "    else:\n",
        "      action = np.argmax(Q[state])\n",
        "    '''\n",
        "\n",
        "    if(i<5000 and step<20):\n",
        "      #print(\"here\")\n",
        "      action = actions[np.random.randint(4)]\n",
        "    else:\n",
        "      action = np.argmax(Q[state])\n",
        "    #if(i<1000 and step < 20):\n",
        "    #  action = np.random.randint(4)\n",
        "    #else:\n",
        "    #  action = np.argmax(Q[state])\n",
        "    \n",
        "    #action = env.action_space.sample() #Random Action\n",
        "    \n",
        "    #print(action)\n",
        "    n_state,reward,terminal,truncated,info = env.step(action) #Take a step\n",
        "\n",
        "    Q[state][action] += alpha*(reward + gamma* np.max(Q[n_state]) - Q[state][action]) \n",
        "\n",
        "    cum_reward += np.power(gamma, step)*reward\n",
        "    state = n_state\n",
        "\n",
        "    if(terminal):\n",
        "      break\n",
        "\n",
        "  cum_rewards.append(cum_reward)\n",
        "  q_diffs.append(np.linalg.norm((Q-Q_opt_QVI)))\n",
        "\n",
        "\n",
        "  if(np.linalg.norm((Q-Q_opt_QVI))< 0.0001):\n",
        "    print(\"converged in episode: {}\".format(i))\n",
        "    break\n",
        "  #break"
      ],
      "metadata": {
        "id": "V0ZVP3pMdNOD"
      },
      "execution_count": null,
      "outputs": []
    },
    {
      "cell_type": "code",
      "source": [
        "Q"
      ],
      "metadata": {
        "colab": {
          "base_uri": "https://localhost:8080/"
        },
        "id": "2cOKWSvsbLOr",
        "outputId": "43130db8-9eba-4348-fd84-475d17329baf"
      },
      "execution_count": null,
      "outputs": [
        {
          "output_type": "execute_result",
          "data": {
            "text/plain": [
              "array([[0.04523622, 0.06223134, 0.04526117, 0.04520145],\n",
              "       [0.0405725 , 0.03946076, 0.03915595, 0.05690543],\n",
              "       [0.04410924, 0.04409575, 0.07018128, 0.04409249],\n",
              "       [0.03328851, 0.03425061, 0.03389024, 0.05267851],\n",
              "       [0.08849703, 0.0547195 , 0.05548899, 0.02470326],\n",
              "       [0.        , 0.        , 0.        , 0.        ],\n",
              "       [0.05550195, 0.05591351, 0.11134051, 0.03062688],\n",
              "       [0.        , 0.        , 0.        , 0.        ],\n",
              "       [0.07874035, 0.08213989, 0.0833208 , 0.14424681],\n",
              "       [0.14984554, 0.2477773 , 0.14471471, 0.14367254],\n",
              "       [0.29926267, 0.20778302, 0.16252012, 0.1221865 ],\n",
              "       [0.        , 0.        , 0.        , 0.        ],\n",
              "       [0.        , 0.        , 0.        , 0.        ],\n",
              "       [0.24195288, 0.24213207, 0.38199689, 0.23358029],\n",
              "       [0.41258866, 0.63677977, 0.45610501, 0.45731004],\n",
              "       [0.        , 0.        , 0.        , 0.        ]])"
            ]
          },
          "metadata": {},
          "execution_count": 44
        }
      ]
    },
    {
      "cell_type": "code",
      "source": [],
      "metadata": {
        "id": "5GKvOTSjaIk6"
      },
      "execution_count": null,
      "outputs": []
    },
    {
      "cell_type": "code",
      "source": [
        "smoothed_q_diffs = sliding_window_smoothing(q_diffs, 500)\n",
        "plt.plot(range(len(smoothed_q_diffs[:-500])),smoothed_q_diffs[:-500])#, xlabel = 'num of episodes', ylabel='Gk')\n",
        "plt.xlabel = 'num of episodes'\n",
        "plt.ylabel = 'Gk'\n",
        "#plt.legend()\n",
        "plt.show()"
      ],
      "metadata": {
        "colab": {
          "base_uri": "https://localhost:8080/",
          "height": 265
        },
        "id": "HRYTmTn3zDNK",
        "outputId": "e193ecbd-066e-43b6-aed7-ecb6c3814dd3"
      },
      "execution_count": null,
      "outputs": [
        {
          "output_type": "display_data",
          "data": {
            "text/plain": [
              "<Figure size 432x288 with 1 Axes>"
            ],
            "image/png": "[encoded data removed]"
          },
          "metadata": {
            "needs_background": "light"
          }
        }
      ]
    },
    {
      "cell_type": "code",
      "source": [
        "smoothed_cum_rewards = sliding_window_smoothing(cum_rewards, 500)\n",
        "plt.plot(range(len(smoothed_cum_rewards[:-500])),smoothed_cum_rewards[:-500])#, xlabel = 'num of episodes', ylabel='Gk')\n",
        "plt.xlabel = 'num of episodes'\n",
        "plt.ylabel = 'Gk'\n",
        "#plt.legend()\n",
        "plt.show()"
      ],
      "metadata": {
        "colab": {
          "base_uri": "https://localhost:8080/",
          "height": 265
        },
        "id": "P3QWJyMjaIn_",
        "outputId": "1b1df2de-6da7-4f86-c743-585022c5c678"
      },
      "execution_count": null,
      "outputs": [
        {
          "output_type": "display_data",
          "data": {
            "text/plain": [
              "<Figure size 432x288 with 1 Axes>"
            ],
            "image/png": "[encoded data removed]"
          },
          "metadata": {
            "needs_background": "light"
          }
        }
      ]
    },
    {
      "cell_type": "code",
      "source": [],
      "metadata": {
        "id": "B2mlNVduaIre"
      },
      "execution_count": null,
      "outputs": []
    },
    {
      "cell_type": "markdown",
      "source": [
        "## Q3 : TD-Learning"
      ],
      "metadata": {
        "id": "FSCscgdqg3OP"
      }
    },
    {
      "cell_type": "markdown",
      "source": [
        "a) Monte Carlo"
      ],
      "metadata": {
        "id": "lL2QK876g3SO"
      }
    },
    {
      "cell_type": "code",
      "source": [
        "def MonteCarlo(env, policy=None, is_uni=False):\n",
        "  S = env.observation_space.n\n",
        "  A = env.action_space.n\n",
        "  num_episodes = 100000\n",
        "  num_steps = 100\n",
        "\n",
        "  alpha = 0.5\n",
        "  eps = 0.5\n",
        "  Vpi = np.zeros(S)\n",
        "  gamma = 0.9\n",
        "\n",
        "  for k in range(num_episodes):\n",
        "    state, info = env.reset()\n",
        "\n",
        "    if(k%1000==0):\n",
        "      alpha*=0.8\n",
        "      eps*=0.8\n",
        "\n",
        "    episode = []\n",
        "\n",
        "    for i in range(num_steps):\n",
        "      \n",
        "      #if(is_uni):\n",
        "      #  action = np.random.randint(0,4)\n",
        "      #else:\n",
        "      #  action = policy[state] # action acc to policy\n",
        "\n",
        "      if(is_uni):\n",
        "        action = np.random.randint(0,4)\n",
        "      else:\n",
        "        actions = [0,1,2,3]\n",
        "        #if(np.random.uniform(0,1.0)<eps):\n",
        "        #  actions.remove(policy[state])\n",
        "        #  action = actions[np.random.randint(3)]\n",
        "        #else:\n",
        "        action = policy[state] # action according to uniform dist\n",
        "      \n",
        "      n_state,reward,terminal,truncated,info = env.step(action) #Take a step\n",
        "\n",
        "      episode.append((state, action, reward, n_state))\n",
        "\n",
        "      state = n_state\n",
        "\n",
        "      if(terminal):\n",
        "        #print(\"here\")\n",
        "        break\n",
        "    \n",
        "    G = 0\n",
        "    Gt = np.zeros(len(episode))\n",
        "    #state_visit_counts = np.zeros(S)\n",
        "    for i in range(len(episode)-1,-1,-1):\n",
        "      curr_state, action, reward, _ = episode[i]\n",
        "      G = reward + gamma*G\n",
        "      #state_visit_counts[state]+=1\n",
        "      Gt[i] = G\n",
        "\n",
        "    for i in range(len(episode)):\n",
        "      curr_state, action, reward, _ = episode[i]\n",
        "      Vpi[curr_state]+= alpha*(Gt[i]-Vpi[curr_state]) \n",
        "\n",
        "\n",
        "  return Vpi"
      ],
      "metadata": {
        "id": "Vx1pgkPCdNR1"
      },
      "execution_count": null,
      "outputs": []
    },
    {
      "cell_type": "code",
      "source": [
        "Vpi_opt_MC = MonteCarlo(env, pi_qvi)"
      ],
      "metadata": {
        "id": "Tz9Vs5cedNaS"
      },
      "execution_count": null,
      "outputs": []
    },
    {
      "cell_type": "code",
      "source": [
        "Vpi_opt_MC"
      ],
      "metadata": {
        "colab": {
          "base_uri": "https://localhost:8080/"
        },
        "id": "3JQOwhJ3W-Lw",
        "outputId": "38125e2b-d060-4a5d-f809-12e1cf108c18"
      },
      "execution_count": null,
      "outputs": [
        {
          "output_type": "execute_result",
          "data": {
            "text/plain": [
              "array([0.06735581, 0.05621155, 0.06836778, 0.        , 0.09024782,\n",
              "       0.        , 0.1118974 , 0.        , 0.14279557, 0.24530788,\n",
              "       0.29992916, 0.        , 0.        , 0.37567631, 0.6353193 ,\n",
              "       0.        ])"
            ]
          },
          "metadata": {},
          "execution_count": 186
        }
      ]
    },
    {
      "cell_type": "code",
      "source": [
        "Vpi_opt_MC"
      ],
      "metadata": {
        "colab": {
          "base_uri": "https://localhost:8080/"
        },
        "id": "7e1_GK8odNch",
        "outputId": "c3ae84b7-0138-4a47-a9a3-33506c239158"
      },
      "execution_count": null,
      "outputs": [
        {
          "output_type": "execute_result",
          "data": {
            "text/plain": [
              "array([0.06572495, 0.06015774, 0.06947845, 0.02264201, 0.0879466 ,\n",
              "       0.        , 0.10651961, 0.        , 0.14113603, 0.24357756,\n",
              "       0.29648043, 0.        , 0.        , 0.37474355, 0.63704478,\n",
              "       0.        ])"
            ]
          },
          "metadata": {},
          "execution_count": 103
        }
      ]
    },
    {
      "cell_type": "code",
      "source": [
        "'''\n",
        "[0.06889059 0.06141431 0.07440957 0.05580711 0.09185426 0.\n",
        " 0.1122081  0.         0.14543612 0.2474968  0.29961748 0.\n",
        " 0.         0.37993579 0.63902009 0.        ]"
      ],
      "metadata": {
        "id": "UY-uw4J8dNgH"
      },
      "execution_count": null,
      "outputs": []
    },
    {
      "cell_type": "code",
      "source": [
        "Vpi_uni_MC = MonteCarlo(env, None, True)"
      ],
      "metadata": {
        "id": "mQp4ZlrdBNAv"
      },
      "execution_count": null,
      "outputs": []
    },
    {
      "cell_type": "code",
      "source": [
        "Vpi_uni_MC"
      ],
      "metadata": {
        "colab": {
          "base_uri": "https://localhost:8080/"
        },
        "id": "1n6kkiDXBNDN",
        "outputId": "26e4cc36-de21-45b1-e317-7f4f91e97da2"
      },
      "execution_count": null,
      "outputs": [
        {
          "output_type": "execute_result",
          "data": {
            "text/plain": [
              "array([0.00411236, 0.00368242, 0.00734796, 0.00296496, 0.0061496 ,\n",
              "       0.        , 0.01784309, 0.        , 0.01573661, 0.05007741,\n",
              "       0.08901134, 0.        , 0.        , 0.10830814, 0.3332299 ,\n",
              "       0.        ])"
            ]
          },
          "metadata": {},
          "execution_count": 277
        }
      ]
    },
    {
      "cell_type": "code",
      "source": [
        "'''\n",
        "array([ 4.47726069e-03,  4.22245661e-03,  1.00667565e-02,  4.11821857e-03,\n",
        "        6.72195841e-03,  1.35138317e-16,  2.63337084e-02,  0.00000000e+00,\n",
        "        1.86761516e-02,  5.76070083e-02,  1.06971947e-01,  0.00000000e+00,\n",
        "       -5.69561934e-17,  1.30383049e-01,  3.91490160e-01,  0.00000000e+00])\n",
        "\n",
        "'''"
      ],
      "metadata": {
        "id": "nlvE5qSXBNFx"
      },
      "execution_count": null,
      "outputs": []
    },
    {
      "cell_type": "code",
      "source": [],
      "metadata": {
        "id": "i1lk6IBsBNIy"
      },
      "execution_count": null,
      "outputs": []
    },
    {
      "cell_type": "code",
      "source": [],
      "metadata": {
        "id": "_ox5hlPNBNMJ"
      },
      "execution_count": null,
      "outputs": []
    },
    {
      "cell_type": "markdown",
      "source": [
        "b) TD Learning"
      ],
      "metadata": {
        "id": "Q4Mr0LHAhI-6"
      }
    },
    {
      "cell_type": "code",
      "source": [
        "def TD_learning(env, policy=None, is_uni=False):\n",
        "  S = env.observation_space.n\n",
        "  A = env.action_space.n\n",
        "  num_episodes = 120000\n",
        "  num_steps = 100\n",
        "\n",
        "  alpha = 0.5\n",
        "  Vpi = np.zeros(S)\n",
        "  gamma = 0.9\n",
        "  eps = 0.5\n",
        "\n",
        "  for k in range(num_episodes):\n",
        "    state, info = env.reset()\n",
        "\n",
        "    if(k%1000==0):\n",
        "      alpha*=0.8\n",
        "      eps*=0.8\n",
        "\n",
        "    for i in range(num_steps):\n",
        "      \n",
        "      if(is_uni):\n",
        "        action = np.random.randint(0,4)\n",
        "      else:\n",
        "        actions = [0,1,2,3]\n",
        "        #if(np.random.uniform(0,1.0)<eps):\n",
        "        #  actions.remove(policy[state])\n",
        "        #  action = actions[np.random.randint(3)]\n",
        "        #else:\n",
        "        action = policy[state] # action according to uniform dist\n",
        "      \n",
        "      n_state,reward,terminal,truncated,info = env.step(action) #Take a step\n",
        "\n",
        "      #if(state == 3):\n",
        "        #print(n_state,reward,terminal)\n",
        "\n",
        "      Vpi[state]+= alpha*(reward + gamma*Vpi[n_state] - Vpi[state])\n",
        "\n",
        "      state = n_state\n",
        "\n",
        "      if(terminal):\n",
        "        #print(\"here\")\n",
        "        break\n",
        "  \n",
        "  return Vpi"
      ],
      "metadata": {
        "id": "lJhYNfHjSNgy"
      },
      "execution_count": null,
      "outputs": []
    },
    {
      "cell_type": "code",
      "source": [
        "Vpi_opt_TD = TD_learning(env, pi_qvi)"
      ],
      "metadata": {
        "id": "Y2bZ-71PYIV3"
      },
      "execution_count": null,
      "outputs": []
    },
    {
      "cell_type": "code",
      "source": [
        "Vpi_opt_TD"
      ],
      "metadata": {
        "colab": {
          "base_uri": "https://localhost:8080/"
        },
        "id": "d9GpDM7ZYuRc",
        "outputId": "1e91d1a9-c719-4f26-af12-b900919a1f43"
      },
      "execution_count": null,
      "outputs": [
        {
          "output_type": "execute_result",
          "data": {
            "text/plain": [
              "array([0.06849869, 0.0615352 , 0.07446215, 0.        , 0.09121501,\n",
              "       0.        , 0.11273268, 0.        , 0.14429797, 0.2451683 ,\n",
              "       0.29715189, 0.        , 0.        , 0.37831932, 0.63729823,\n",
              "       0.        ])"
            ]
          },
          "metadata": {},
          "execution_count": 189
        }
      ]
    },
    {
      "cell_type": "code",
      "source": [
        "Vpi_opt_TD = TD_learning(env, pi_qvi)"
      ],
      "metadata": {
        "id": "XK45lfee3fpC"
      },
      "execution_count": null,
      "outputs": []
    },
    {
      "cell_type": "code",
      "source": [
        "pi_qvi"
      ],
      "metadata": {
        "colab": {
          "base_uri": "https://localhost:8080/"
        },
        "id": "mv3GaZEWt_vz",
        "outputId": "2de26277-200e-4741-a1be-51d1c45e8b94"
      },
      "execution_count": null,
      "outputs": [
        {
          "output_type": "execute_result",
          "data": {
            "text/plain": [
              "{0: 0,\n",
              " 1: 3,\n",
              " 2: 0,\n",
              " 3: 3,\n",
              " 4: 0,\n",
              " 5: 0,\n",
              " 6: 0,\n",
              " 7: 0,\n",
              " 8: 3,\n",
              " 9: 1,\n",
              " 10: 0,\n",
              " 11: 0,\n",
              " 12: 0,\n",
              " 13: 2,\n",
              " 14: 1,\n",
              " 15: 0}"
            ]
          },
          "metadata": {},
          "execution_count": 17
        }
      ]
    },
    {
      "cell_type": "code",
      "source": [
        "Vpi_opt_TD"
      ],
      "metadata": {
        "colab": {
          "base_uri": "https://localhost:8080/"
        },
        "id": "4D5xsrSRr7JF",
        "outputId": "70666441-18cd-4b66-c4c6-2d0d477a57b3"
      },
      "execution_count": null,
      "outputs": [
        {
          "output_type": "execute_result",
          "data": {
            "text/plain": [
              "array([0.06922939, 0.06087208, 0.07402228, 0.04389042, 0.09206834,\n",
              "       0.        , 0.11213916, 0.        , 0.14551576, 0.24693931,\n",
              "       0.29628145, 0.        , 0.        , 0.37841853, 0.63378319,\n",
              "       0.        ])"
            ]
          },
          "metadata": {},
          "execution_count": 32
        }
      ]
    },
    {
      "cell_type": "code",
      "source": [
        "Vpi_opt_TD"
      ],
      "metadata": {
        "colab": {
          "base_uri": "https://localhost:8080/"
        },
        "id": "9-YqVAww4JCA",
        "outputId": "bc93f475-bd01-4b2e-8f2c-747e5e7202e1"
      },
      "execution_count": null,
      "outputs": [
        {
          "output_type": "execute_result",
          "data": {
            "text/plain": [
              "array([0.06777046, 0.0596929 , 0.07246025, 0.        , 0.09053014,\n",
              "       0.        , 0.11087475, 0.        , 0.14392722, 0.24633106,\n",
              "       0.29990792, 0.        , 0.        , 0.37735772, 0.63659033,\n",
              "       0.        ])"
            ]
          },
          "metadata": {},
          "execution_count": 262
        }
      ]
    },
    {
      "cell_type": "code",
      "source": [
        "'''\n",
        "[0.06889059 0.06141431 0.07440957 0.05580711 0.09185426 0.\n",
        " 0.1122081  0.         0.14543612 0.2474968  0.29961748 0.\n",
        " 0.         0.37993579 0.63902009 0.        ]\n",
        "'''"
      ],
      "metadata": {
        "id": "i9EgQrss4_9k"
      },
      "execution_count": null,
      "outputs": []
    },
    {
      "cell_type": "code",
      "source": [
        "Vpi_uni_TD = TD_learning(env, None, True)"
      ],
      "metadata": {
        "id": "LHLj8kb14HBe"
      },
      "execution_count": null,
      "outputs": []
    },
    {
      "cell_type": "code",
      "source": [
        "Vpi_uni_TD"
      ],
      "metadata": {
        "colab": {
          "base_uri": "https://localhost:8080/"
        },
        "id": "ovnr-WAf31G8",
        "outputId": "bc70b275-7bee-4b32-ce5f-d2763e41a642"
      },
      "execution_count": null,
      "outputs": [
        {
          "output_type": "execute_result",
          "data": {
            "text/plain": [
              "array([0.00435228, 0.00402701, 0.00954755, 0.0040572 , 0.00659874,\n",
              "       0.        , 0.02415587, 0.        , 0.01836029, 0.05684741,\n",
              "       0.09746036, 0.        , 0.        , 0.13640199, 0.37019131,\n",
              "       0.        ])"
            ]
          },
          "metadata": {},
          "execution_count": 265
        }
      ]
    },
    {
      "cell_type": "code",
      "source": [
        "'''\n",
        "array([ 4.47726069e-03,  4.22245661e-03,  1.00667565e-02,  4.11821857e-03,\n",
        "        6.72195841e-03,  0.0,  2.63337084e-02,  0.0,\n",
        "        1.86761516e-02,  5.76070083e-02,  1.06971947e-01,  0.0,\n",
        "       0,  1.30383049e-01,  3.91490160e-01,  0.00000000e+00])\n",
        "\n",
        "'''"
      ],
      "metadata": {
        "id": "usiPBUaZ3fsM"
      },
      "execution_count": null,
      "outputs": []
    },
    {
      "cell_type": "code",
      "source": [],
      "metadata": {
        "id": "LqcL-qAshMA9"
      },
      "execution_count": null,
      "outputs": []
    },
    {
      "cell_type": "code",
      "source": [],
      "metadata": {
        "id": "L7q_Le-shPcT"
      },
      "execution_count": null,
      "outputs": []
    }
  ],
  "metadata": {
    "kernelspec": {
      "display_name": "Python(rlhw)",
      "language": "python",
      "name": "rlhw"
    },
    "language_info": {
      "codemirror_mode": {
        "name": "ipython",
        "version": 3
      },
      "file_extension": ".py",
      "mimetype": "text/x-python",
      "name": "python",
      "nbconvert_exporter": "python",
      "pygments_lexer": "ipython3",
      "version": "3.9.12"
    },
    "colab": {
      "provenance": []
    }
  },
  "nbformat": 4,
  "nbformat_minor": 0
}